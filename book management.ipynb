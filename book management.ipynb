{
 "cells": [
  {
   "cell_type": "code",
   "execution_count": null,
   "id": "44d40978-dcbe-40dc-a4bf-bce90be80159",
   "metadata": {},
   "outputs": [
    {
     "name": "stdout",
     "output_type": "stream",
     "text": [
      "\n",
      "Enter 1 Add a book\n",
      "Enter 2 Search by title\n",
      "Enter 3 Search by author\n",
      "Enter 4 Search by ISBN\n",
      "Enter 5 Display all books\n",
      "Enter 6 Exit\n"
     ]
    }
   ],
   "source": [
    "class Book:\n",
    "    def __init__(self, title, author, isbn):\n",
    "        self.title = title\n",
    "        self.author = author\n",
    "        self.isbn = isbn\n",
    "\n",
    "    def __repr__(self):\n",
    "        return f\"Book(title='{self.title}', author='{self.author}', isbn='{self.isbn}')\"\n",
    "\n",
    "class Library:\n",
    "    def __init__(self):\n",
    "        self.books = []\n",
    "\n",
    "    def add_book(self, book):\n",
    "        self.books.append(book)\n",
    "\n",
    "    def search_by_title(self, title):\n",
    "        return [book for book in self.books if title.lower() in book.title.lower()]\n",
    "\n",
    "    def search_by_author(self, author):\n",
    "        return [book for book in self.books if author.lower() in book.author.lower()]\n",
    "\n",
    "    def search_by_isbn(self, isbn):\n",
    "        return [book for book in self.books if isbn == book.isbn]\n",
    "\n",
    "    def display_books(self):\n",
    "        for book in self.books:\n",
    "            print(book)\n",
    "\n",
    "def get_book_details():\n",
    "    title = input(\"Enter book title: \")\n",
    "    author = input(\"Enter book author: \")\n",
    "    while True:\n",
    "        isbntemp = input(\"Enter 13-digit ISBN number: \")\n",
    "        if len(isbntemp)==13:\n",
    "            isbn=isbntemp\n",
    "            break\n",
    "        else:\n",
    "            print(\"enter 13 digit ISBN number\")\n",
    "        \n",
    "    return Book(title, author, isbn)\n",
    "\n",
    "if __name__ == \"__main__\":\n",
    "    library = Library()\n",
    "    \n",
    "    while True:\n",
    "        print(\"\")\n",
    "        print(\"Enter 1 Add a book\")\n",
    "        print(\"Enter 2 Search by title\")\n",
    "        print(\"Enter 3 Search by author\")\n",
    "        print(\"Enter 4 Search by ISBN\")\n",
    "        print(\"Enter 5 Display all books\")\n",
    "        print(\"Enter 6 Exit\")       \n",
    "        action = int(input(\"Enter your choice: \"))\n",
    "        \n",
    "        if action==1:\n",
    "            book = get_book_details()\n",
    "            library.add_book(book)\n",
    "        elif action==2:\n",
    "            title = input(\"Enter title to search: \")\n",
    "            print(\"Search results:\", library.search_by_title(title))\n",
    "        elif action==3:\n",
    "            author = input(\"Enter author to search: \")\n",
    "            print(\"Search results:\", library.search_by_author(author))\n",
    "        elif action==4:\n",
    "            isbn = input(\"Enter ISBN to search: \")\n",
    "            print(\"Search results:\", library.search_by_isbn(isbn))\n",
    "        elif action==5:\n",
    "            library.display_books()\n",
    "        elif action==6:\n",
    "            print(\"program over\")\n",
    "            break\n",
    "        else:\n",
    "            print(\"Invalid choice. Please try again.\")"
   ]
  },
  {
   "cell_type": "code",
   "execution_count": 6,
   "id": "2c62797b-fe23-4b72-8fc3-0d96788c714c",
   "metadata": {},
   "outputs": [],
   "source": []
  },
  {
   "cell_type": "code",
   "execution_count": null,
   "id": "732c6828-1739-415e-9e4b-9a75194413e4",
   "metadata": {},
   "outputs": [],
   "source": []
  }
 ],
 "metadata": {
  "kernelspec": {
   "display_name": "Python 3 (ipykernel)",
   "language": "python",
   "name": "python3"
  },
  "language_info": {
   "codemirror_mode": {
    "name": "ipython",
    "version": 3
   },
   "file_extension": ".py",
   "mimetype": "text/x-python",
   "name": "python",
   "nbconvert_exporter": "python",
   "pygments_lexer": "ipython3",
   "version": "3.11.4"
  }
 },
 "nbformat": 4,
 "nbformat_minor": 5
}
